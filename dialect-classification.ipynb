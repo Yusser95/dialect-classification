{
 "cells": [
  {
   "cell_type": "code",
   "execution_count": 1,
   "metadata": {},
   "outputs": [],
   "source": [
    "from sklearn.pipeline import Pipeline , FeatureUnion\n",
    "from sklearn.feature_extraction.text import CountVectorizer , TfidfVectorizer, TfidfTransformer\n",
    "from sklearn.model_selection import GridSearchCV\n",
    "from sklearn import model_selection, preprocessing\n",
    "from sklearn.model_selection import train_test_split\n",
    "from sklearn import svm\n",
    "from sklearn.metrics import classification_report, confusion_matrix, accuracy_score\n",
    "\n",
    "import numpy as np\n",
    "import pandas as pd\n",
    "\n",
    "import seaborn as sns\n",
    "import matplotlib.pyplot as plt\n",
    "%matplotlib inline\n",
    "\n",
    "\n",
    "from nltk.corpus import stopwords\n",
    "import nltk\n",
    "from nltk.tokenize.stanford_segmenter import StanfordSegmenter\n",
    "import gensim\n",
    "\n",
    "import os\n",
    "from collections import defaultdict\n",
    "import pickle\n",
    "import re\n",
    "import unicodedata\n"
   ]
  },
  {
   "cell_type": "code",
   "execution_count": 2,
   "metadata": {},
   "outputs": [],
   "source": [
    "class TfidfEmbeddingVectorizer(object):\n",
    "    def __init__(self, word2vec):\n",
    "        self.word2vec = word2vec\n",
    "        self.word2weight = None\n",
    "        self.dim = len(word2vec.values())\n",
    "\n",
    "    def fit(self, X, y):\n",
    "        tfidf = TfidfVectorizer(analyzer=lambda x: x)\n",
    "        tfidf.fit(X)\n",
    "        # if a word was never seen - it must be at least as infrequent\n",
    "        # as any of the known words - so the default idf is the max of \n",
    "        # known idf's\n",
    "        max_idf = max(tfidf.idf_)\n",
    "        self.word2weight = defaultdict(\n",
    "            lambda: max_idf,\n",
    "            [(w, tfidf.idf_[i]) for w, i in tfidf.vocabulary_.items()])\n",
    "\n",
    "        return self\n",
    "\n",
    "    def transform(self, X):\n",
    "        \n",
    "        temp = np.array([\n",
    "                np.mean([self.word2vec[w] * self.word2weight[w]\n",
    "                         for w in words if w in self.word2vec] or\n",
    "                        [np.zeros(100)], axis=0)\n",
    "                for words in X\n",
    "            ])\n",
    "        return temp"
   ]
  },
  {
   "cell_type": "code",
   "execution_count": 3,
   "metadata": {},
   "outputs": [],
   "source": [
    "class textClassificationModels():\n",
    "    \n",
    "    def load_data(self,url='4-dialects-tweets.xlsx'):    \n",
    "#         self.df = pd.read_csv(url, encoding = 'utf8')\n",
    "        self.df = pd.read_excel(url, encoding = 'utf8')\n",
    "    \n",
    "    \n",
    "        # let X be a list of tokenized texts (i.e. list of lists of tokens)\n",
    "        X = []\n",
    "        for t in self.df['tweets']:\n",
    "            X.append(t.split())\n",
    "            \n",
    "        gensim_model = gensim.models.Word2Vec(X, size=100)\n",
    "        self.w2v = dict(zip(gensim_model.wv.index2word, gensim_model.wv.syn0))\n",
    "\n",
    "        print(\"total rows : \",len(self.df))\n",
    "        return self.df\n",
    "    \n",
    "    def train(self,algo , Auto_Tune = False , nfolds = 10):\n",
    "        algos = []\n",
    "        pipe_parms = []\n",
    "        add_tfidf = False\n",
    "        if algo == 'N-Gram':\n",
    "            algos.append(('word_vec', CountVectorizer(analyzer='word', ngram_range=(1,3))))\n",
    "            algos.append(('char_vec', CountVectorizer(analyzer='char', ngram_range=(1,5))))\n",
    "            \n",
    "        elif algo == 'N-gram_and_tfidf':\n",
    "            algos.append(('word_vec', CountVectorizer(analyzer='word', ngram_range=(1,3))))\n",
    "            algos.append(('char_vec', CountVectorizer(analyzer='char', ngram_range=(3,5))))\n",
    "            add_tfidf =  True\n",
    "            \n",
    "        elif algo == \"word2vic\":\n",
    "            algos.append((\"word2vec vectorizer\", TfidfEmbeddingVectorizer(self.w2v)))\n",
    "            \n",
    "        \n",
    "        else:\n",
    "            print(\"Choose algorithem :\")\n",
    "            print(\"1- \\t\" , \"N-Gram\")\n",
    "            print(\"2- \\t\" , \"vac-prune\")\n",
    "            print(\"3- \\t\" , \"All\")\n",
    "            return None\n",
    "        \n",
    "        pipe_parms.append(\n",
    "                        ('union', FeatureUnion(algos)),\n",
    "                        )\n",
    "        if add_tfidf:\n",
    "            pipe_parms.append(('tfidf', TfidfTransformer(sublinear_tf=True)))\n",
    "\n",
    "        pipe_parms.append(\n",
    "                        ('clf-svm', svm.LinearSVC(C=0.01)),\n",
    "                        )\n",
    "        \n",
    "        \n",
    "#         text_clf_svm = Pipeline([\n",
    "#                         ('union', FeatureUnion(algos)),\n",
    "#                         ('clf-svm', svm.LinearSVC(C=0.01)),\n",
    "#                         ])\n",
    "        text_clf_svm = Pipeline(pipe_parms)\n",
    "        \n",
    "        Cs = [0.001, 0.01, 0.1, 1, 10]\n",
    "#         Cs = [0.1, 0.5, 1, 1.5, 5]\n",
    "        parameters = {\n",
    "         }\n",
    "        if Auto_Tune:\n",
    "            parameters['clf-svm__C']= Cs\n",
    "\n",
    "\n",
    "#         nfolds = 10\n",
    "#         text_clf = GridSearchCV(text_clf_svm, parameters ,cv=nfolds)\n",
    "#         self.text_clf = text_clf.fit(self.train_x, self.train_y)\n",
    "\n",
    "\n",
    "        self.text_clf = text_clf_svm.fit(self.train_x, self.train_y)\n",
    "        \n",
    "        return self.text_clf\n",
    "        \n",
    "\n",
    "    def predict(self ,text):\n",
    "        predicted = self.text_clf.predict(text)\n",
    "        return predicted\n",
    "\n",
    "    def split_data(self,test_size = 0.3):\n",
    "        train, test = train_test_split(self.df, test_size=test_size)\n",
    "\n",
    "        self.train_x = train['tweets']#.drop('dialect', 1)\n",
    "        train_y = train['dialect']\n",
    "\n",
    "        self.test_x = test['tweets']#.drop('dialect', 1)\n",
    "        test_y = test['dialect']\n",
    "        \n",
    "        print(\"train_x shape : \",self.train_x.shape)\n",
    "        print(\"train_y shape : \",train_y.shape)\n",
    "        print(\"test_x shape : \",self.test_x.shape)\n",
    "        print(\"test_y shape : \",test_y.shape)\n",
    "\n",
    "        # label encode the target variable \n",
    "        encoder = preprocessing.LabelEncoder()\n",
    "        self.train_y = encoder.fit_transform(train_y)\n",
    "        self.test_y = encoder.fit_transform(test_y)\n",
    "        self.encoder = encoder\n",
    "        return True\n",
    "    \n",
    "    def getpredection_labels(self,pred_arr):\n",
    "        return self.encoder.inverse_transform(pred_arr)\n",
    "    \n",
    "    def clean_data(self):\n",
    "        self.df['tweets'].apply(self.manual_clean_data)\n",
    "        return self.df\n",
    "    \n",
    "    def manual_clean_data(self,x):\n",
    "        return self.remove_stop_words(self.strip_numbers(self.strip_punctuation(self.tweets_clean_data(x))))\n",
    "    \n",
    "    def strip_punctuation(self,text):\n",
    "        punctutation_cats = set(['Pc', 'Pd', 'Ps', 'Pe', 'Pi', 'Pf', 'Po'])\n",
    "        return  ''.join(x for x in text if unicodedata.category(x)\n",
    "                       not in punctutation_cats)\n",
    "\n",
    "    def strip_numbers(self,text):\n",
    "        NUMBER_PATTERN = re.compile('|'.join(['1', '2', '3', '4', '5', '6', '7', '8', '9', '0']), re.UNICODE)\n",
    "        return re.sub(NUMBER_PATTERN, u'', text)\n",
    "\n",
    "    def tweets_clean_data(self,x):\n",
    "    #     x = re.sub(r'#\\w+ ?', '', x)\n",
    "    #     x = re.sub(r'http\\S+', '', x)\n",
    "        return re.sub(r\"(?:\\@|https?\\://)\\S+\", \" \", x)\n",
    "    \n",
    "    def remove_stop_words(self,x):\n",
    "        sf = stopwords.fileids()\n",
    "        if 'arabic' not in sf:\n",
    "            nltk.download(\"stopwords\")\n",
    "        stopwords_list = stopwords.words('arabic')\n",
    "\n",
    "        return ''.join(w for w in x.split() if w\n",
    "                       not in stopwords_list)\n",
    "    \n",
    "\n",
    "        \n",
    "        \n",
    "    def print_confusion_matrix(self,Y_test , Y_pred, labels):\n",
    "        cm = confusion_matrix(Y_test, Y_pred)\n",
    "        confusion_mc = confusion_matrix(Y_test, Y_pred)\n",
    "        n = len(labels)\n",
    "        df_cm = pd.DataFrame(confusion_mc, \n",
    "                             index = [i for i in range(0,n)], columns = [i for i in range(0,n)])\n",
    "\n",
    "        plt.figure(figsize=(7.5,6))\n",
    "        sns.heatmap(df_cm, annot=True, xticklabels=labels, yticklabels=labels)\n",
    "        plt.title('SVM Linear Kernel \\nAccuracy:{0:.3f}'.format(accuracy_score(Y_test, Y_pred)))\n",
    "        plt.ylabel('True label')\n",
    "        plt.xlabel('Predicted label')\n",
    "        \n",
    "        \n",
    "        \n",
    "    def print_classification_report(self, Y_test ,Y_pred , labels):\n",
    "        print(classification_report(Y_test, Y_pred, target_names=labels))\n",
    "        \n",
    "    def print_evaluate_reports(self):\n",
    "        Y_pred = list(self.text_clf.predict(self.test_x))\n",
    "        Y_test = self.test_y\n",
    "#         labels = ['eg','sy','sa','alg']\n",
    "        labels = set(Y_pred)\n",
    "        labels = sorted(labels)\n",
    "        labels = self.getpredection_labels(labels)\n",
    "        try:\n",
    "            self.print_classification_report(Y_test , Y_pred , labels)\n",
    "        except Exception as e:\n",
    "            print(e)\n",
    "        try:\n",
    "            self.print_confusion_matrix(Y_test , Y_pred , labels)\n",
    "        except Exception as e:\n",
    "            print(e)\n",
    "\n"
   ]
  },
  {
   "cell_type": "code",
   "execution_count": 4,
   "metadata": {},
   "outputs": [],
   "source": [
    "model =textClassificationModels()"
   ]
  },
  {
   "cell_type": "code",
   "execution_count": 5,
   "metadata": {},
   "outputs": [
    {
     "name": "stderr",
     "output_type": "stream",
     "text": [
      "/Users/mac/Envs/dialect-env/lib/python3.7/site-packages/ipykernel_launcher.py:14: DeprecationWarning: Call to deprecated `syn0` (Attribute will be removed in 4.0.0, use self.vectors instead).\n",
      "  \n"
     ]
    },
    {
     "name": "stdout",
     "output_type": "stream",
     "text": [
      "total rows :  108440\n"
     ]
    },
    {
     "data": {
      "text/html": [
       "<div>\n",
       "<style scoped>\n",
       "    .dataframe tbody tr th:only-of-type {\n",
       "        vertical-align: middle;\n",
       "    }\n",
       "\n",
       "    .dataframe tbody tr th {\n",
       "        vertical-align: top;\n",
       "    }\n",
       "\n",
       "    .dataframe thead th {\n",
       "        text-align: right;\n",
       "    }\n",
       "</style>\n",
       "<table border=\"1\" class=\"dataframe\">\n",
       "  <thead>\n",
       "    <tr style=\"text-align: right;\">\n",
       "      <th></th>\n",
       "      <th>tweets</th>\n",
       "      <th>dialect</th>\n",
       "    </tr>\n",
       "  </thead>\n",
       "  <tbody>\n",
       "    <tr>\n",
       "      <th>count</th>\n",
       "      <td>108440</td>\n",
       "      <td>108440</td>\n",
       "    </tr>\n",
       "    <tr>\n",
       "      <th>unique</th>\n",
       "      <td>103696</td>\n",
       "      <td>4</td>\n",
       "    </tr>\n",
       "    <tr>\n",
       "      <th>top</th>\n",
       "      <td>يارب</td>\n",
       "      <td>sa</td>\n",
       "    </tr>\n",
       "    <tr>\n",
       "      <th>freq</th>\n",
       "      <td>108</td>\n",
       "      <td>28738</td>\n",
       "    </tr>\n",
       "  </tbody>\n",
       "</table>\n",
       "</div>"
      ],
      "text/plain": [
       "        tweets dialect\n",
       "count   108440  108440\n",
       "unique  103696       4\n",
       "top       يارب      sa\n",
       "freq       108   28738"
      ]
     },
     "execution_count": 5,
     "metadata": {},
     "output_type": "execute_result"
    }
   ],
   "source": [
    "df = model.load_data('4-dialects-tweets.xlsx')\n",
    "df = model.clean_data()\n",
    "df.describe(include='all')"
   ]
  },
  {
   "cell_type": "code",
   "execution_count": 6,
   "metadata": {},
   "outputs": [
    {
     "data": {
      "text/plain": [
       "dialect\n",
       "alg    26742\n",
       "eg     28016\n",
       "sa     28738\n",
       "sy     24944\n",
       "dtype: int64"
      ]
     },
     "execution_count": 6,
     "metadata": {},
     "output_type": "execute_result"
    }
   ],
   "source": [
    "df.groupby('dialect').size()"
   ]
  },
  {
   "cell_type": "code",
   "execution_count": 7,
   "metadata": {},
   "outputs": [
    {
     "name": "stdout",
     "output_type": "stream",
     "text": [
      "train_x shape :  (75908,)\n",
      "train_y shape :  (75908,)\n",
      "test_x shape :  (32532,)\n",
      "test_y shape :  (32532,)\n"
     ]
    },
    {
     "data": {
      "text/plain": [
       "True"
      ]
     },
     "execution_count": 7,
     "metadata": {},
     "output_type": "execute_result"
    }
   ],
   "source": [
    "model.split_data(0.3)"
   ]
  },
  {
   "cell_type": "markdown",
   "metadata": {},
   "source": [
    "# word2vec"
   ]
  },
  {
   "cell_type": "code",
   "execution_count": 8,
   "metadata": {},
   "outputs": [
    {
     "data": {
      "text/plain": [
       "Pipeline(steps=[('union',\n",
       "                 FeatureUnion(transformer_list=[('word2vec vectorizer',\n",
       "                                                 <__main__.TfidfEmbeddingVectorizer object at 0x11dc3b410>)])),\n",
       "                ('clf-svm', LinearSVC(C=0.01))])"
      ]
     },
     "execution_count": 8,
     "metadata": {},
     "output_type": "execute_result"
    }
   ],
   "source": [
    "model.train('word2vic')"
   ]
  },
  {
   "cell_type": "code",
   "execution_count": 9,
   "metadata": {},
   "outputs": [
    {
     "name": "stdout",
     "output_type": "stream",
     "text": [
      "              precision    recall  f1-score   support\n",
      "\n",
      "         alg       0.43      0.32      0.36      8088\n",
      "          eg       0.32      0.40      0.35      8278\n",
      "          sa       0.34      0.52      0.41      8663\n",
      "          sy       0.41      0.15      0.22      7503\n",
      "\n",
      "    accuracy                           0.35     32532\n",
      "   macro avg       0.37      0.35      0.34     32532\n",
      "weighted avg       0.37      0.35      0.34     32532\n",
      "\n"
     ]
    },
    {
     "data": {
      "image/png": "[encoded data removed]",
      "text/plain": [
       "<Figure size 540x432 with 2 Axes>"
      ]
     },
     "metadata": {
      "needs_background": "light"
     },
     "output_type": "display_data"
    }
   ],
   "source": [
    "model.print_evaluate_reports()"
   ]
  },
  {
   "cell_type": "markdown",
   "metadata": {},
   "source": [
    "# N-gram (1-5)char and (1-3)words and tfidf (sublinear_tf)"
   ]
  },
  {
   "cell_type": "code",
   "execution_count": 10,
   "metadata": {},
   "outputs": [
    {
     "data": {
      "text/plain": [
       "Pipeline(steps=[('union',\n",
       "                 FeatureUnion(transformer_list=[('word_vec',\n",
       "                                                 CountVectorizer(ngram_range=(1,\n",
       "                                                                              3))),\n",
       "                                                ('char_vec',\n",
       "                                                 CountVectorizer(analyzer='char',\n",
       "                                                                 ngram_range=(3,\n",
       "                                                                              5)))])),\n",
       "                ('tfidf', TfidfTransformer(sublinear_tf=True)),\n",
       "                ('clf-svm', LinearSVC(C=0.01))])"
      ]
     },
     "execution_count": 10,
     "metadata": {},
     "output_type": "execute_result"
    }
   ],
   "source": [
    "model.train('N-gram_and_tfidf')"
   ]
  },
  {
   "cell_type": "code",
   "execution_count": 11,
   "metadata": {},
   "outputs": [
    {
     "name": "stdout",
     "output_type": "stream",
     "text": [
      "              precision    recall  f1-score   support\n",
      "\n",
      "         alg       0.79      0.85      0.82      8088\n",
      "          eg       0.81      0.77      0.79      8278\n",
      "          sa       0.75      0.85      0.80      8663\n",
      "          sy       0.84      0.69      0.76      7503\n",
      "\n",
      "    accuracy                           0.79     32532\n",
      "   macro avg       0.80      0.79      0.79     32532\n",
      "weighted avg       0.80      0.79      0.79     32532\n",
      "\n"
     ]
    },
    {
     "data": {
      "image/png": "[encoded data removed]",
      "text/plain": [
       "<Figure size 540x432 with 2 Axes>"
      ]
     },
     "metadata": {
      "needs_background": "light"
     },
     "output_type": "display_data"
    }
   ],
   "source": [
    "model.print_evaluate_reports()"
   ]
  },
  {
   "cell_type": "code",
   "execution_count": null,
   "metadata": {},
   "outputs": [],
   "source": []
  },
  {
   "cell_type": "markdown",
   "metadata": {},
   "source": [
    "# N-gram (1-5)char and (1-3)words"
   ]
  },
  {
   "cell_type": "code",
   "execution_count": 12,
   "metadata": {},
   "outputs": [
    {
     "name": "stderr",
     "output_type": "stream",
     "text": [
      "/Users/mac/Envs/dialect-env/lib/python3.7/site-packages/sklearn/svm/_base.py:977: ConvergenceWarning: Liblinear failed to converge, increase the number of iterations.\n",
      "  \"the number of iterations.\", ConvergenceWarning)\n"
     ]
    },
    {
     "data": {
      "text/plain": [
       "Pipeline(steps=[('union',\n",
       "                 FeatureUnion(transformer_list=[('word_vec',\n",
       "                                                 CountVectorizer(ngram_range=(1,\n",
       "                                                                              3))),\n",
       "                                                ('char_vec',\n",
       "                                                 CountVectorizer(analyzer='char',\n",
       "                                                                 ngram_range=(1,\n",
       "                                                                              5)))])),\n",
       "                ('clf-svm', LinearSVC(C=0.01))])"
      ]
     },
     "execution_count": 12,
     "metadata": {},
     "output_type": "execute_result"
    }
   ],
   "source": [
    "model.train('N-Gram')"
   ]
  },
  {
   "cell_type": "code",
   "execution_count": 13,
   "metadata": {},
   "outputs": [
    {
     "name": "stdout",
     "output_type": "stream",
     "text": [
      "              precision    recall  f1-score   support\n",
      "\n",
      "         alg       0.86      0.88      0.87      8088\n",
      "          eg       0.85      0.85      0.85      8278\n",
      "          sa       0.87      0.86      0.86      8663\n",
      "          sy       0.83      0.83      0.83      7503\n",
      "\n",
      "    accuracy                           0.86     32532\n",
      "   macro avg       0.85      0.85      0.85     32532\n",
      "weighted avg       0.86      0.86      0.86     32532\n",
      "\n"
     ]
    },
    {
     "data": {
      "image/png": "[encoded data removed]",
      "text/plain": [
       "<Figure size 540x432 with 2 Axes>"
      ]
     },
     "metadata": {
      "needs_background": "light"
     },
     "output_type": "display_data"
    }
   ],
   "source": [
    "model.print_evaluate_reports()"
   ]
  },
  {
   "cell_type": "code",
   "execution_count": null,
   "metadata": {},
   "outputs": [],
   "source": []
  },
  {
   "cell_type": "code",
   "execution_count": null,
   "metadata": {},
   "outputs": [],
   "source": []
  }
 ],
 "metadata": {
  "kernelspec": {
   "display_name": "Python 3",
   "language": "python",
   "name": "python3"
  },
  "language_info": {
   "codemirror_mode": {
    "name": "ipython",
    "version": 3
   },
   "file_extension": ".py",
   "mimetype": "text/x-python",
   "name": "python",
   "nbconvert_exporter": "python",
   "pygments_lexer": "ipython3",
   "version": "3.7.7"
  }
 },
 "nbformat": 4,
 "nbformat_minor": 2
}
